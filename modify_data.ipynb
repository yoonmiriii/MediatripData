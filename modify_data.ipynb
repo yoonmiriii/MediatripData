{
 "cells": [
  {
   "cell_type": "code",
   "execution_count": 1,
   "id": "779c5c2a-059e-4a93-a741-15a6d1e59f27",
   "metadata": {},
   "outputs": [],
   "source": [
    "import pandas as pd"
   ]
  },
  {
   "cell_type": "code",
   "execution_count": 2,
   "id": "4e85ec10-cc60-4ad6-9a50-f453483f6b6b",
   "metadata": {},
   "outputs": [],
   "source": [
    "df = pd.read_csv('./KC_MEDIA_VIDO_AREA_DATA_2023.csv')"
   ]
  },
  {
   "cell_type": "code",
   "execution_count": 3,
   "id": "99935890-7c81-4cac-9e64-424eabffe523",
   "metadata": {},
   "outputs": [
    {
     "data": {
      "text/html": [
       "<div>\n",
       "<style scoped>\n",
       "    .dataframe tbody tr th:only-of-type {\n",
       "        vertical-align: middle;\n",
       "    }\n",
       "\n",
       "    .dataframe tbody tr th {\n",
       "        vertical-align: top;\n",
       "    }\n",
       "\n",
       "    .dataframe thead th {\n",
       "        text-align: right;\n",
       "    }\n",
       "</style>\n",
       "<table border=\"1\" class=\"dataframe\">\n",
       "  <thead>\n",
       "    <tr style=\"text-align: right;\">\n",
       "      <th></th>\n",
       "      <th>SEQ_NO</th>\n",
       "      <th>MEDIA_TY</th>\n",
       "      <th>TITLE_NM</th>\n",
       "      <th>PLACE_NM</th>\n",
       "      <th>PLACE_TY</th>\n",
       "      <th>RELATE_PLACE_DC</th>\n",
       "      <th>OPER_TIME</th>\n",
       "      <th>REST_TIME</th>\n",
       "      <th>RSTDE_GUID_CN</th>\n",
       "      <th>ADDR</th>\n",
       "      <th>LC_LA</th>\n",
       "      <th>LC_LO</th>\n",
       "      <th>TEL_NO</th>\n",
       "      <th>LAST_UPDT_DE</th>\n",
       "    </tr>\n",
       "  </thead>\n",
       "  <tbody>\n",
       "    <tr>\n",
       "      <th>0</th>\n",
       "      <td>1</td>\n",
       "      <td>drama</td>\n",
       "      <td>(아는 건 별로 없지만) 가족입니다</td>\n",
       "      <td>커피파머</td>\n",
       "      <td>cafe</td>\n",
       "      <td>6회에서 김은희(한예리)와 안효석(이종원)이 윤태형(김태호)의 은신처에서 서울로 돌...</td>\n",
       "      <td>매일 09시 - 21시</td>\n",
       "      <td>정보없음</td>\n",
       "      <td>연중무휴</td>\n",
       "      <td>경기도 고양시 일산서구 대화로 61</td>\n",
       "      <td>37.667523</td>\n",
       "      <td>126.72817</td>\n",
       "      <td>3.118999e+09</td>\n",
       "      <td>20221125</td>\n",
       "    </tr>\n",
       "  </tbody>\n",
       "</table>\n",
       "</div>"
      ],
      "text/plain": [
       "   SEQ_NO MEDIA_TY             TITLE_NM PLACE_NM PLACE_TY  \\\n",
       "0       1    drama  (아는 건 별로 없지만) 가족입니다     커피파머     cafe   \n",
       "\n",
       "                                     RELATE_PLACE_DC     OPER_TIME REST_TIME  \\\n",
       "0  6회에서 김은희(한예리)와 안효석(이종원)이 윤태형(김태호)의 은신처에서 서울로 돌...  매일 09시 - 21시      정보없음   \n",
       "\n",
       "  RSTDE_GUID_CN                 ADDR      LC_LA      LC_LO        TEL_NO  \\\n",
       "0          연중무휴  경기도 고양시 일산서구 대화로 61  37.667523  126.72817  3.118999e+09   \n",
       "\n",
       "   LAST_UPDT_DE  \n",
       "0      20221125  "
      ]
     },
     "execution_count": 3,
     "metadata": {},
     "output_type": "execute_result"
    }
   ],
   "source": [
    "df.head(1)"
   ]
  },
  {
   "cell_type": "code",
   "execution_count": 4,
   "id": "ab495e91-8e9a-4461-acb9-121d8574de86",
   "metadata": {},
   "outputs": [
    {
     "data": {
      "text/plain": [
       "13139"
      ]
     },
     "execution_count": 4,
     "metadata": {},
     "output_type": "execute_result"
    }
   ],
   "source": [
    "count = (df['REST_TIME'] == '정보없음').sum()\n",
    "count"
   ]
  },
  {
   "cell_type": "code",
   "execution_count": 5,
   "id": "1d87f15f-f86c-46b2-8593-d4d5a90a0512",
   "metadata": {},
   "outputs": [],
   "source": [
    "df.columns = ['index', '미디어유형', '제목', '장소','장소유형','장소설명','운영시간','휴식시간','휴무일','주소','위도','경도','전화번호','최종수정일']"
   ]
  },
  {
   "cell_type": "code",
   "execution_count": 6,
   "id": "3be59ea5-da56-4e2d-b5dd-9a0a14518bbf",
   "metadata": {},
   "outputs": [
    {
     "data": {
      "text/html": [
       "<div>\n",
       "<style scoped>\n",
       "    .dataframe tbody tr th:only-of-type {\n",
       "        vertical-align: middle;\n",
       "    }\n",
       "\n",
       "    .dataframe tbody tr th {\n",
       "        vertical-align: top;\n",
       "    }\n",
       "\n",
       "    .dataframe thead th {\n",
       "        text-align: right;\n",
       "    }\n",
       "</style>\n",
       "<table border=\"1\" class=\"dataframe\">\n",
       "  <thead>\n",
       "    <tr style=\"text-align: right;\">\n",
       "      <th></th>\n",
       "      <th>index</th>\n",
       "      <th>미디어유형</th>\n",
       "      <th>제목</th>\n",
       "      <th>장소</th>\n",
       "      <th>장소유형</th>\n",
       "      <th>장소설명</th>\n",
       "      <th>운영시간</th>\n",
       "      <th>휴식시간</th>\n",
       "      <th>휴무일</th>\n",
       "      <th>주소</th>\n",
       "      <th>위도</th>\n",
       "      <th>경도</th>\n",
       "      <th>전화번호</th>\n",
       "      <th>최종수정일</th>\n",
       "    </tr>\n",
       "  </thead>\n",
       "  <tbody>\n",
       "    <tr>\n",
       "      <th>15029</th>\n",
       "      <td>15030</td>\n",
       "      <td>drama</td>\n",
       "      <td>You Raise Me Up (유 레이즈 미 업)</td>\n",
       "      <td>서울마리나 클럽&amp;요트</td>\n",
       "      <td>playground</td>\n",
       "      <td>6회에서 산책 후 밤에 이 클럽 마당에 한강 기슭에 앉아 그들은 키스를 나눈다.</td>\n",
       "      <td>매일 10시 - 22시</td>\n",
       "      <td>정보없음</td>\n",
       "      <td>연중무휴</td>\n",
       "      <td>서울특별시 영등포구 여의서로 160</td>\n",
       "      <td>37.534829</td>\n",
       "      <td>126.91157</td>\n",
       "      <td>237808400.0</td>\n",
       "      <td>20221125</td>\n",
       "    </tr>\n",
       "    <tr>\n",
       "      <th>15030</th>\n",
       "      <td>15031</td>\n",
       "      <td>drama</td>\n",
       "      <td>You Raise Me Up (유 레이즈 미 업)</td>\n",
       "      <td>한강대교</td>\n",
       "      <td>playground</td>\n",
       "      <td>2회에서 절망적이고 우울한 도용식(윤시윤)이 이 다리에 와서 자신의 삶을 반성합니다.</td>\n",
       "      <td>매일 00시 - 24시</td>\n",
       "      <td>정보없음</td>\n",
       "      <td>연중무휴</td>\n",
       "      <td>서울특별시 용산구 이촌동 한강대교</td>\n",
       "      <td>37.517492</td>\n",
       "      <td>126.95897</td>\n",
       "      <td>221998580.0</td>\n",
       "      <td>20221125</td>\n",
       "    </tr>\n",
       "    <tr>\n",
       "      <th>15031</th>\n",
       "      <td>15032</td>\n",
       "      <td>drama</td>\n",
       "      <td>You Raise Me Up (유 레이즈 미 업)</td>\n",
       "      <td>해밀톤 호텔별관</td>\n",
       "      <td>stay</td>\n",
       "      <td>7회에서 도지혁(박기웅)이 이 술집에서 술을 마신다.</td>\n",
       "      <td>가게별 상이</td>\n",
       "      <td>정보없음</td>\n",
       "      <td>연중무휴</td>\n",
       "      <td>서울특별시 용산구 이태원로27가길 26</td>\n",
       "      <td>37.535099</td>\n",
       "      <td>126.99377</td>\n",
       "      <td>237866000.0</td>\n",
       "      <td>20221125</td>\n",
       "    </tr>\n",
       "    <tr>\n",
       "      <th>15032</th>\n",
       "      <td>15033</td>\n",
       "      <td>drama</td>\n",
       "      <td>You Raise Me Up (유 레이즈 미 업)</td>\n",
       "      <td>북촌로5가길</td>\n",
       "      <td>playground</td>\n",
       "      <td>8화에서 두라와 데이트를 하며 이 거리를 걷는다.</td>\n",
       "      <td>매일 00시 - 24시</td>\n",
       "      <td>정보없음</td>\n",
       "      <td>연중무휴</td>\n",
       "      <td>서울특별시 종로구 북촌로5가길 12-7</td>\n",
       "      <td>37.580327</td>\n",
       "      <td>126.98237</td>\n",
       "      <td>221481114.0</td>\n",
       "      <td>20221125</td>\n",
       "    </tr>\n",
       "    <tr>\n",
       "      <th>15033</th>\n",
       "      <td>15034</td>\n",
       "      <td>drama</td>\n",
       "      <td>You Raise Me Up (유 레이즈 미 업)</td>\n",
       "      <td>청계천</td>\n",
       "      <td>playground</td>\n",
       "      <td>1화에서 절망에 빠진 도용식(윤시윤)이 이 광장을 향해 걸어가며 자신의 삶을 성공한...</td>\n",
       "      <td>매일 00시 - 24시</td>\n",
       "      <td>정보없음</td>\n",
       "      <td>연중무휴</td>\n",
       "      <td>서울특별시 종로구 서린동 148</td>\n",
       "      <td>37.569205</td>\n",
       "      <td>126.97791</td>\n",
       "      <td>222906114.0</td>\n",
       "      <td>20221125</td>\n",
       "    </tr>\n",
       "  </tbody>\n",
       "</table>\n",
       "</div>"
      ],
      "text/plain": [
       "       index  미디어유형                           제목           장소        장소유형  \\\n",
       "15029  15030  drama  You Raise Me Up (유 레이즈 미 업)  서울마리나 클럽&요트  playground   \n",
       "15030  15031  drama  You Raise Me Up (유 레이즈 미 업)         한강대교  playground   \n",
       "15031  15032  drama  You Raise Me Up (유 레이즈 미 업)     해밀톤 호텔별관        stay   \n",
       "15032  15033  drama  You Raise Me Up (유 레이즈 미 업)       북촌로5가길  playground   \n",
       "15033  15034  drama  You Raise Me Up (유 레이즈 미 업)          청계천  playground   \n",
       "\n",
       "                                                    장소설명          운영시간  휴식시간  \\\n",
       "15029       6회에서 산책 후 밤에 이 클럽 마당에 한강 기슭에 앉아 그들은 키스를 나눈다.  매일 10시 - 22시  정보없음   \n",
       "15030    2회에서 절망적이고 우울한 도용식(윤시윤)이 이 다리에 와서 자신의 삶을 반성합니다.  매일 00시 - 24시  정보없음   \n",
       "15031                      7회에서 도지혁(박기웅)이 이 술집에서 술을 마신다.        가게별 상이  정보없음   \n",
       "15032                        8화에서 두라와 데이트를 하며 이 거리를 걷는다.  매일 00시 - 24시  정보없음   \n",
       "15033  1화에서 절망에 빠진 도용식(윤시윤)이 이 광장을 향해 걸어가며 자신의 삶을 성공한...  매일 00시 - 24시  정보없음   \n",
       "\n",
       "        휴무일                     주소         위도         경도         전화번호  \\\n",
       "15029  연중무휴    서울특별시 영등포구 여의서로 160  37.534829  126.91157  237808400.0   \n",
       "15030  연중무휴     서울특별시 용산구 이촌동 한강대교  37.517492  126.95897  221998580.0   \n",
       "15031  연중무휴  서울특별시 용산구 이태원로27가길 26  37.535099  126.99377  237866000.0   \n",
       "15032  연중무휴  서울특별시 종로구 북촌로5가길 12-7  37.580327  126.98237  221481114.0   \n",
       "15033  연중무휴      서울특별시 종로구 서린동 148  37.569205  126.97791  222906114.0   \n",
       "\n",
       "          최종수정일  \n",
       "15029  20221125  \n",
       "15030  20221125  \n",
       "15031  20221125  \n",
       "15032  20221125  \n",
       "15033  20221125  "
      ]
     },
     "execution_count": 6,
     "metadata": {},
     "output_type": "execute_result"
    }
   ],
   "source": [
    "df.tail()"
   ]
  },
  {
   "cell_type": "code",
   "execution_count": 7,
   "id": "9609350b-bd55-4a7c-b4c0-e67c52be0bbb",
   "metadata": {},
   "outputs": [],
   "source": [
    "df.drop('index',axis=1,inplace=True)"
   ]
  },
  {
   "cell_type": "code",
   "execution_count": 8,
   "id": "2a455689-34d3-43cf-8a95-1124aa9183b0",
   "metadata": {},
   "outputs": [],
   "source": [
    "df.drop('최종수정일',axis=1,inplace=True)"
   ]
  },
  {
   "cell_type": "code",
   "execution_count": 9,
   "id": "26001cab-74e5-4e85-b711-aea21ea00400",
   "metadata": {},
   "outputs": [],
   "source": [
    "df.drop('전화번호',axis=1,inplace=True)"
   ]
  },
  {
   "cell_type": "code",
   "execution_count": 10,
   "id": "116f6bb0-10e1-4eda-98f0-7105bce5ec9d",
   "metadata": {},
   "outputs": [
    {
     "data": {
      "text/html": [
       "<div>\n",
       "<style scoped>\n",
       "    .dataframe tbody tr th:only-of-type {\n",
       "        vertical-align: middle;\n",
       "    }\n",
       "\n",
       "    .dataframe tbody tr th {\n",
       "        vertical-align: top;\n",
       "    }\n",
       "\n",
       "    .dataframe thead th {\n",
       "        text-align: right;\n",
       "    }\n",
       "</style>\n",
       "<table border=\"1\" class=\"dataframe\">\n",
       "  <thead>\n",
       "    <tr style=\"text-align: right;\">\n",
       "      <th></th>\n",
       "      <th>미디어유형</th>\n",
       "      <th>제목</th>\n",
       "      <th>장소</th>\n",
       "      <th>장소유형</th>\n",
       "      <th>장소설명</th>\n",
       "      <th>운영시간</th>\n",
       "      <th>휴식시간</th>\n",
       "      <th>휴무일</th>\n",
       "      <th>주소</th>\n",
       "      <th>위도</th>\n",
       "      <th>경도</th>\n",
       "    </tr>\n",
       "  </thead>\n",
       "  <tbody>\n",
       "    <tr>\n",
       "      <th>0</th>\n",
       "      <td>drama</td>\n",
       "      <td>(아는 건 별로 없지만) 가족입니다</td>\n",
       "      <td>커피파머</td>\n",
       "      <td>cafe</td>\n",
       "      <td>6회에서 김은희(한예리)와 안효석(이종원)이 윤태형(김태호)의 은신처에서 서울로 돌...</td>\n",
       "      <td>매일 09시 - 21시</td>\n",
       "      <td>정보없음</td>\n",
       "      <td>연중무휴</td>\n",
       "      <td>경기도 고양시 일산서구 대화로 61</td>\n",
       "      <td>37.667523</td>\n",
       "      <td>126.72817</td>\n",
       "    </tr>\n",
       "  </tbody>\n",
       "</table>\n",
       "</div>"
      ],
      "text/plain": [
       "   미디어유형                   제목    장소  장소유형  \\\n",
       "0  drama  (아는 건 별로 없지만) 가족입니다  커피파머  cafe   \n",
       "\n",
       "                                                장소설명          운영시간  휴식시간  \\\n",
       "0  6회에서 김은희(한예리)와 안효석(이종원)이 윤태형(김태호)의 은신처에서 서울로 돌...  매일 09시 - 21시  정보없음   \n",
       "\n",
       "    휴무일                   주소         위도         경도  \n",
       "0  연중무휴  경기도 고양시 일산서구 대화로 61  37.667523  126.72817  "
      ]
     },
     "execution_count": 10,
     "metadata": {},
     "output_type": "execute_result"
    }
   ],
   "source": [
    "df.head(1)"
   ]
  },
  {
   "cell_type": "code",
   "execution_count": 11,
   "id": "c20d15ff-3afa-4b5d-82f4-4874172bd770",
   "metadata": {},
   "outputs": [],
   "source": [
    "df.replace({'장소유형': 'cafe'}, '카페', inplace=True)"
   ]
  },
  {
   "cell_type": "code",
   "execution_count": 12,
   "id": "cbb5a936-546c-4f6f-9ba1-b6c81ccd0d4b",
   "metadata": {},
   "outputs": [],
   "source": [
    "df.replace({'장소유형': 'restaurant'}, '식당', inplace=True)"
   ]
  },
  {
   "cell_type": "code",
   "execution_count": 13,
   "id": "169836e1-9d75-4f8d-a9cb-73c0f464e9c6",
   "metadata": {},
   "outputs": [],
   "source": [
    "df.replace({'장소유형': 'stay'}, '숙박', inplace=True)"
   ]
  },
  {
   "cell_type": "code",
   "execution_count": 14,
   "id": "495be78d-8e47-4d76-a5c0-97a23416fd65",
   "metadata": {},
   "outputs": [],
   "source": [
    "df.replace({'장소유형': 'store'}, '상점', inplace=True)"
   ]
  },
  {
   "cell_type": "code",
   "execution_count": 15,
   "id": "d0150130-a15f-4be0-8528-d5d401e97f75",
   "metadata": {},
   "outputs": [],
   "source": [
    "df.replace({'장소유형': 'cvs'}, '상점', inplace=True)"
   ]
  },
  {
   "cell_type": "code",
   "execution_count": 16,
   "id": "c1b298ee-3158-43f4-b733-b27f7af392fe",
   "metadata": {},
   "outputs": [],
   "source": [
    "df.replace({'장소유형': 'shop'}, '상점', inplace=True)"
   ]
  },
  {
   "cell_type": "code",
   "execution_count": 17,
   "id": "42dffc7c-72c1-4f51-9cae-00054c6ed57c",
   "metadata": {},
   "outputs": [],
   "source": [
    "df.replace({'장소유형': 'playground'}, '다채로운 지역 탐방', inplace=True)"
   ]
  },
  {
   "cell_type": "code",
   "execution_count": 18,
   "id": "5890d024-1dba-45ac-a2da-1656a35cd46e",
   "metadata": {},
   "outputs": [],
   "source": [
    "df.replace({'장소유형': 'station'}, '교통시설', inplace=True)"
   ]
  },
  {
   "cell_type": "code",
   "execution_count": 19,
   "id": "91dece8a-454b-4682-92ae-5f68110e0710",
   "metadata": {},
   "outputs": [
    {
     "data": {
      "text/plain": [
       "array(['카페', '다채로운 지역 탐방', '식당', '숙박', '교통시설', '상점'], dtype=object)"
      ]
     },
     "execution_count": 19,
     "metadata": {},
     "output_type": "execute_result"
    }
   ],
   "source": [
    "df['장소유형'].unique()"
   ]
  },
  {
   "cell_type": "code",
   "execution_count": 20,
   "id": "d5ba7bba-20e0-4909-82fb-9c6e52a2fc8d",
   "metadata": {},
   "outputs": [],
   "source": [
    "df.replace({'미디어유형': 'drama'}, '드라마', inplace=True)"
   ]
  },
  {
   "cell_type": "code",
   "execution_count": 21,
   "id": "13ac6ba6-261b-49ab-8b99-019796c74661",
   "metadata": {},
   "outputs": [],
   "source": [
    "df.replace({'미디어유형': 'movie'}, '영화', inplace=True)"
   ]
  },
  {
   "cell_type": "code",
   "execution_count": 22,
   "id": "1c573f2c-aef6-41f0-862c-11ee9eec9dc1",
   "metadata": {},
   "outputs": [],
   "source": [
    "df.replace({'미디어유형': 'artist'}, '아티스트', inplace=True)"
   ]
  },
  {
   "cell_type": "code",
   "execution_count": 23,
   "id": "34dde763-c78b-4c42-a8fe-f7aed5d8d98b",
   "metadata": {},
   "outputs": [],
   "source": [
    "df.replace({'미디어유형': 'show'}, '비_드라마_TV프로그램', inplace=True)"
   ]
  },
  {
   "cell_type": "code",
   "execution_count": 24,
   "id": "d74ffb5f-9fa1-44a5-8eb2-e6bb1b48a257",
   "metadata": {},
   "outputs": [
    {
     "data": {
      "text/plain": [
       "array(['드라마', '영화', '비_드라마_TV프로그램', '아티스트'], dtype=object)"
      ]
     },
     "execution_count": 24,
     "metadata": {},
     "output_type": "execute_result"
    }
   ],
   "source": [
    "df['미디어유형'].unique()"
   ]
  },
  {
   "cell_type": "code",
   "execution_count": 25,
   "id": "dde0706e-9e3b-47e8-ab39-bf05aeee3546",
   "metadata": {},
   "outputs": [
    {
     "data": {
      "text/html": [
       "<div>\n",
       "<style scoped>\n",
       "    .dataframe tbody tr th:only-of-type {\n",
       "        vertical-align: middle;\n",
       "    }\n",
       "\n",
       "    .dataframe tbody tr th {\n",
       "        vertical-align: top;\n",
       "    }\n",
       "\n",
       "    .dataframe thead th {\n",
       "        text-align: right;\n",
       "    }\n",
       "</style>\n",
       "<table border=\"1\" class=\"dataframe\">\n",
       "  <thead>\n",
       "    <tr style=\"text-align: right;\">\n",
       "      <th></th>\n",
       "      <th>미디어유형</th>\n",
       "      <th>제목</th>\n",
       "      <th>장소</th>\n",
       "      <th>장소유형</th>\n",
       "      <th>장소설명</th>\n",
       "      <th>운영시간</th>\n",
       "      <th>휴식시간</th>\n",
       "      <th>휴무일</th>\n",
       "      <th>주소</th>\n",
       "      <th>위도</th>\n",
       "      <th>경도</th>\n",
       "    </tr>\n",
       "  </thead>\n",
       "  <tbody>\n",
       "    <tr>\n",
       "      <th>69</th>\n",
       "      <td>비_드라마_TV프로그램</td>\n",
       "      <td>1박2일 시즌1</td>\n",
       "      <td>옛날초당순두부</td>\n",
       "      <td>식당</td>\n",
       "      <td>글로벌특집 2탄을 촬영한 순두부 맛집</td>\n",
       "      <td>매일 07시  - 21시</td>\n",
       "      <td>정보없음</td>\n",
       "      <td>연중무휴</td>\n",
       "      <td>강원도 강릉시 경포동 운정길 141</td>\n",
       "      <td>37.786707</td>\n",
       "      <td>128.892774</td>\n",
       "    </tr>\n",
       "    <tr>\n",
       "      <th>70</th>\n",
       "      <td>비_드라마_TV프로그램</td>\n",
       "      <td>1박2일 시즌1</td>\n",
       "      <td>단천식당</td>\n",
       "      <td>식당</td>\n",
       "      <td>1박2일 멤버들이 방문한 순대 맛집</td>\n",
       "      <td>매일 08시 30분 - 19시</td>\n",
       "      <td>15시 30분 - 16시</td>\n",
       "      <td>연중무휴</td>\n",
       "      <td>강원도 속초시 아바이마을길 17</td>\n",
       "      <td>38.202626</td>\n",
       "      <td>128.593672</td>\n",
       "    </tr>\n",
       "    <tr>\n",
       "      <th>71</th>\n",
       "      <td>비_드라마_TV프로그램</td>\n",
       "      <td>1박2일 시즌1</td>\n",
       "      <td>별마로천문대</td>\n",
       "      <td>다채로운 지역 탐방</td>\n",
       "      <td>올빼미 여행 특집을 촬영한 천문대</td>\n",
       "      <td>화-일 15시 - 23시 (4월-9월),  화-일 14시 - 22시 (10월-3월)</td>\n",
       "      <td>정보없음</td>\n",
       "      <td>월요일</td>\n",
       "      <td>강원도 영월군 영월읍 천문대길 397</td>\n",
       "      <td>37.198816</td>\n",
       "      <td>128.486792</td>\n",
       "    </tr>\n",
       "    <tr>\n",
       "      <th>72</th>\n",
       "      <td>비_드라마_TV프로그램</td>\n",
       "      <td>1박2일 시즌1</td>\n",
       "      <td>장금성</td>\n",
       "      <td>식당</td>\n",
       "      <td>성탄특집을 촬영한 짬뽕 맛집</td>\n",
       "      <td>매일 10시 30분 - 20시 30분</td>\n",
       "      <td>정보없음</td>\n",
       "      <td>1, 3번째 수요일</td>\n",
       "      <td>강원도 원주시 판부면 치악로 1000</td>\n",
       "      <td>37.274739</td>\n",
       "      <td>128.014985</td>\n",
       "    </tr>\n",
       "    <tr>\n",
       "      <th>73</th>\n",
       "      <td>비_드라마_TV프로그램</td>\n",
       "      <td>1박2일 시즌1</td>\n",
       "      <td>숲속의빈터 방동막국수</td>\n",
       "      <td>식당</td>\n",
       "      <td>1박2일 멤버들이 방문한 막국수 맛집</td>\n",
       "      <td>매일 10시 30분 - 20시</td>\n",
       "      <td>15시 20분 - 16시</td>\n",
       "      <td>연중무휴</td>\n",
       "      <td>강원도 인제군 기린면 조침령로 496</td>\n",
       "      <td>37.952463</td>\n",
       "      <td>128.358508</td>\n",
       "    </tr>\n",
       "    <tr>\n",
       "      <th>...</th>\n",
       "      <td>...</td>\n",
       "      <td>...</td>\n",
       "      <td>...</td>\n",
       "      <td>...</td>\n",
       "      <td>...</td>\n",
       "      <td>...</td>\n",
       "      <td>...</td>\n",
       "      <td>...</td>\n",
       "      <td>...</td>\n",
       "      <td>...</td>\n",
       "      <td>...</td>\n",
       "    </tr>\n",
       "    <tr>\n",
       "      <th>15001</th>\n",
       "      <td>비_드라마_TV프로그램</td>\n",
       "      <td>VJ특공대</td>\n",
       "      <td>오소담</td>\n",
       "      <td>식당</td>\n",
       "      <td>VJ특공대 828회 맥반석밥 맛집</td>\n",
       "      <td>매일 11시 - 20시</td>\n",
       "      <td>정보없음</td>\n",
       "      <td>연중무휴</td>\n",
       "      <td>충청북도 청주시 상당구 낭성면 지산나박실길 4</td>\n",
       "      <td>36.630771</td>\n",
       "      <td>127.596503</td>\n",
       "    </tr>\n",
       "    <tr>\n",
       "      <th>15002</th>\n",
       "      <td>비_드라마_TV프로그램</td>\n",
       "      <td>VJ특공대</td>\n",
       "      <td>오즈버거</td>\n",
       "      <td>식당</td>\n",
       "      <td>VJ특공대 884회 수제버거 맛집</td>\n",
       "      <td>매일 10시 - 19시</td>\n",
       "      <td>정보없음</td>\n",
       "      <td>연중무휴</td>\n",
       "      <td>충청북도 청주시 상당구 미원면 미원시내2길 29</td>\n",
       "      <td>36.633445</td>\n",
       "      <td>127.654189</td>\n",
       "    </tr>\n",
       "    <tr>\n",
       "      <th>15003</th>\n",
       "      <td>비_드라마_TV프로그램</td>\n",
       "      <td>VJ특공대</td>\n",
       "      <td>두툼</td>\n",
       "      <td>식당</td>\n",
       "      <td>VJ특공대 795회 곱돌회 맛집</td>\n",
       "      <td>매일 11시 30분 - 21시</td>\n",
       "      <td>14시 - 17시</td>\n",
       "      <td>연중무휴</td>\n",
       "      <td>충청북도 청주시 서원구 두꺼비로 29</td>\n",
       "      <td>36.610345</td>\n",
       "      <td>127.465497</td>\n",
       "    </tr>\n",
       "    <tr>\n",
       "      <th>15004</th>\n",
       "      <td>비_드라마_TV프로그램</td>\n",
       "      <td>VJ특공대</td>\n",
       "      <td>일번지순대국</td>\n",
       "      <td>식당</td>\n",
       "      <td>VJ특공대 879회 순대국 맛집</td>\n",
       "      <td>월-금 10시 - 21시 30분, 일 09시 30분 - 21시</td>\n",
       "      <td>평일만 15시 - 17시</td>\n",
       "      <td>토요일</td>\n",
       "      <td>충청북도 충주시 연수상가2길 9</td>\n",
       "      <td>36.988411</td>\n",
       "      <td>127.930064</td>\n",
       "    </tr>\n",
       "    <tr>\n",
       "      <th>15005</th>\n",
       "      <td>비_드라마_TV프로그램</td>\n",
       "      <td>VJ특공대</td>\n",
       "      <td>전통궁중칼국수</td>\n",
       "      <td>식당</td>\n",
       "      <td>VJ특공대 647회 칼국수</td>\n",
       "      <td>매일 10시 - 21시</td>\n",
       "      <td>정보없음</td>\n",
       "      <td>연중무휴</td>\n",
       "      <td>충청남도 공주시 금벽로 679</td>\n",
       "      <td>36.455679</td>\n",
       "      <td>127.156893</td>\n",
       "    </tr>\n",
       "  </tbody>\n",
       "</table>\n",
       "<p>5460 rows × 11 columns</p>\n",
       "</div>"
      ],
      "text/plain": [
       "              미디어유형        제목           장소        장소유형                  장소설명  \\\n",
       "69     비_드라마_TV프로그램  1박2일 시즌1      옛날초당순두부          식당  글로벌특집 2탄을 촬영한 순두부 맛집   \n",
       "70     비_드라마_TV프로그램  1박2일 시즌1         단천식당          식당   1박2일 멤버들이 방문한 순대 맛집   \n",
       "71     비_드라마_TV프로그램  1박2일 시즌1       별마로천문대  다채로운 지역 탐방    올빼미 여행 특집을 촬영한 천문대   \n",
       "72     비_드라마_TV프로그램  1박2일 시즌1          장금성          식당       성탄특집을 촬영한 짬뽕 맛집   \n",
       "73     비_드라마_TV프로그램  1박2일 시즌1  숲속의빈터 방동막국수          식당  1박2일 멤버들이 방문한 막국수 맛집   \n",
       "...             ...       ...          ...         ...                   ...   \n",
       "15001  비_드라마_TV프로그램     VJ특공대          오소담          식당    VJ특공대 828회 맥반석밥 맛집   \n",
       "15002  비_드라마_TV프로그램     VJ특공대         오즈버거          식당    VJ특공대 884회 수제버거 맛집   \n",
       "15003  비_드라마_TV프로그램     VJ특공대           두툼          식당     VJ특공대 795회 곱돌회 맛집   \n",
       "15004  비_드라마_TV프로그램     VJ특공대       일번지순대국          식당     VJ특공대 879회 순대국 맛집   \n",
       "15005  비_드라마_TV프로그램     VJ특공대      전통궁중칼국수          식당        VJ특공대 647회 칼국수   \n",
       "\n",
       "                                                 운영시간           휴식시간  \\\n",
       "69                                      매일 07시  - 21시           정보없음   \n",
       "70                                   매일 08시 30분 - 19시  15시 30분 - 16시   \n",
       "71     화-일 15시 - 23시 (4월-9월),  화-일 14시 - 22시 (10월-3월)           정보없음   \n",
       "72                               매일 10시 30분 - 20시 30분           정보없음   \n",
       "73                                   매일 10시 30분 - 20시  15시 20분 - 16시   \n",
       "...                                               ...            ...   \n",
       "15001                                    매일 11시 - 20시           정보없음   \n",
       "15002                                    매일 10시 - 19시           정보없음   \n",
       "15003                                매일 11시 30분 - 21시      14시 - 17시   \n",
       "15004              월-금 10시 - 21시 30분, 일 09시 30분 - 21시  평일만 15시 - 17시   \n",
       "15005                                    매일 10시 - 21시           정보없음   \n",
       "\n",
       "              휴무일                          주소         위도          경도  \n",
       "69           연중무휴         강원도 강릉시 경포동 운정길 141  37.786707  128.892774  \n",
       "70           연중무휴           강원도 속초시 아바이마을길 17  38.202626  128.593672  \n",
       "71            월요일        강원도 영월군 영월읍 천문대길 397  37.198816  128.486792  \n",
       "72     1, 3번째 수요일        강원도 원주시 판부면 치악로 1000  37.274739  128.014985  \n",
       "73           연중무휴        강원도 인제군 기린면 조침령로 496  37.952463  128.358508  \n",
       "...           ...                         ...        ...         ...  \n",
       "15001        연중무휴   충청북도 청주시 상당구 낭성면 지산나박실길 4  36.630771  127.596503  \n",
       "15002        연중무휴  충청북도 청주시 상당구 미원면 미원시내2길 29  36.633445  127.654189  \n",
       "15003        연중무휴        충청북도 청주시 서원구 두꺼비로 29  36.610345  127.465497  \n",
       "15004         토요일           충청북도 충주시 연수상가2길 9  36.988411  127.930064  \n",
       "15005        연중무휴            충청남도 공주시 금벽로 679  36.455679  127.156893  \n",
       "\n",
       "[5460 rows x 11 columns]"
      ]
     },
     "execution_count": 25,
     "metadata": {},
     "output_type": "execute_result"
    }
   ],
   "source": [
    "df.loc[ df['미디어유형']=='비_드라마_TV프로그램', :]"
   ]
  },
  {
   "cell_type": "code",
   "execution_count": 26,
   "id": "706a75b8-aada-444d-b0bb-5d4ddb974974",
   "metadata": {},
   "outputs": [
    {
     "data": {
      "text/plain": [
       "array(['(아는 건 별로 없지만) 가족입니다', '#좋맛탱: 좋은 맛에 취하다', '1%의 어떤것', ...,\n",
       "       'W (더블유)', 'XX', 'You Raise Me Up (유 레이즈 미 업)'], dtype=object)"
      ]
     },
     "execution_count": 26,
     "metadata": {},
     "output_type": "execute_result"
    }
   ],
   "source": [
    "df['제목'].unique()"
   ]
  },
  {
   "cell_type": "code",
   "execution_count": 27,
   "id": "1517af75-42bb-457a-be54-eb7a44f6c549",
   "metadata": {},
   "outputs": [
    {
     "data": {
      "text/plain": [
       "8725"
      ]
     },
     "execution_count": 27,
     "metadata": {},
     "output_type": "execute_result"
    }
   ],
   "source": [
    "df['장소'].nunique()"
   ]
  },
  {
   "cell_type": "code",
   "execution_count": 28,
   "id": "166306e0-d636-478c-932b-c0d6d0d37363",
   "metadata": {},
   "outputs": [
    {
     "data": {
      "text/plain": [
       "array(['경기도 고양시 일산서구 대화로 61', '경기도 남양주시 천마산로 21',\n",
       "       '경기도 수원시 영통구 센트럴파크로127번길 148', ..., '인천광역시 서구 장고개로 272 2층 천광교회',\n",
       "       '서울특별시 강북구 4.19로 95', '서울특별시 강북구 인수봉로75길 76'], dtype=object)"
      ]
     },
     "execution_count": 28,
     "metadata": {},
     "output_type": "execute_result"
    }
   ],
   "source": [
    "df['주소'].unique()"
   ]
  },
  {
   "cell_type": "code",
   "execution_count": 29,
   "id": "dbe4eb9e-8232-4c6d-9cf1-aedfcc7b4561",
   "metadata": {},
   "outputs": [],
   "source": [
    "df.replace({'주소': '서울특별시'}, '서울', inplace=True)"
   ]
  },
  {
   "cell_type": "code",
   "execution_count": 30,
   "id": "5a66625e-ec1f-40aa-914a-16a7991edb03",
   "metadata": {},
   "outputs": [],
   "source": [
    "df.replace({'주소': '서울'}, '서울특별시', inplace=True)"
   ]
  },
  {
   "cell_type": "code",
   "execution_count": 31,
   "id": "41632641-4797-45d7-b4de-0c1a0934e51d",
   "metadata": {},
   "outputs": [],
   "source": [
    "df.replace({'주소': '부산광역시'}, '부산', inplace=True)"
   ]
  },
  {
   "cell_type": "code",
   "execution_count": 32,
   "id": "fe107516-75c7-4044-b18f-1ca54d039ccb",
   "metadata": {},
   "outputs": [],
   "source": [
    "df.replace({'주소': '부산'}, '부산광역시', inplace=True)"
   ]
  },
  {
   "cell_type": "code",
   "execution_count": 33,
   "id": "00115080-8786-4576-afba-46456b73b4b5",
   "metadata": {},
   "outputs": [],
   "source": [
    "df.replace({'주소': '경기도'}, '경기', inplace=True)"
   ]
  },
  {
   "cell_type": "code",
   "execution_count": 34,
   "id": "1ce8a2f3-c703-40ef-ac24-bff746c66716",
   "metadata": {},
   "outputs": [],
   "source": [
    "df.replace({'주소': '경기'}, '경기도', inplace=True)"
   ]
  },
  {
   "cell_type": "code",
   "execution_count": 35,
   "id": "5e1fb894-a11d-4555-a3b3-3c93ecc344c4",
   "metadata": {},
   "outputs": [],
   "source": [
    "df.replace({'주소': '경기도여주시'}, '경기도 여주시', inplace=True)"
   ]
  },
  {
   "cell_type": "code",
   "execution_count": 36,
   "id": "543cb42a-77cf-4dde-93ab-8273c62ab618",
   "metadata": {},
   "outputs": [],
   "source": [
    "df.replace({'주소': '경기도고양시'}, '경기도 고양시', inplace=True)"
   ]
  },
  {
   "cell_type": "code",
   "execution_count": 37,
   "id": "999ff7ee-c8cf-4081-b1be-1e4f0f6ce8a6",
   "metadata": {},
   "outputs": [],
   "source": [
    "df.to_csv('./media_area2.csv')"
   ]
  },
  {
   "cell_type": "code",
   "execution_count": 38,
   "id": "bd45d49c-a689-4a45-a3ae-40a6ab493816",
   "metadata": {},
   "outputs": [],
   "source": [
    "df = pd.read_csv('./media_area2.csv',index_col=0)"
   ]
  },
  {
   "cell_type": "code",
   "execution_count": 39,
   "id": "40f370d8-8f1b-4ba3-ab44-0a229338aa87",
   "metadata": {},
   "outputs": [],
   "source": [
    "df['주소'] = df['주소'].str.replace('서울특별시', '서울').str.replace('부산광역시', '부산').str.replace('경기도', '경기')\n",
    "df['주소'] = df['주소'].str.replace('서울', '서울특별시').str.replace('부산', '부산광역시').str.replace('경기', '경기도')"
   ]
  },
  {
   "cell_type": "code",
   "execution_count": 40,
   "id": "34cdd9dd-541c-41d7-9671-fb043c0f9d0c",
   "metadata": {},
   "outputs": [],
   "source": [
    "df['주소'] = df['주소'].str.replace('경기도여주시', '경기도 여주시')"
   ]
  },
  {
   "cell_type": "code",
   "execution_count": 41,
   "id": "7df64ecf-0322-4b5e-b18d-c1dbf27b0ba2",
   "metadata": {},
   "outputs": [],
   "source": [
    "df['주소'] = df['주소'].str.replace('경기도고양시', '경기도 고양시')"
   ]
  },
  {
   "cell_type": "code",
   "execution_count": 42,
   "id": "db63b867-53e8-448d-bdbc-4068039dfd87",
   "metadata": {},
   "outputs": [],
   "source": [
    "df.to_csv('./media_area.csv')"
   ]
  },
  {
   "cell_type": "code",
   "execution_count": null,
   "id": "a72c1590-eb5c-40d1-b48f-b50ce8b3aa23",
   "metadata": {},
   "outputs": [],
   "source": []
  }
 ],
 "metadata": {
  "kernelspec": {
   "display_name": "Python 3 (ipykernel)",
   "language": "python",
   "name": "python3"
  },
  "language_info": {
   "codemirror_mode": {
    "name": "ipython",
    "version": 3
   },
   "file_extension": ".py",
   "mimetype": "text/x-python",
   "name": "python",
   "nbconvert_exporter": "python",
   "pygments_lexer": "ipython3",
   "version": "3.10.14"
  }
 },
 "nbformat": 4,
 "nbformat_minor": 5
}
